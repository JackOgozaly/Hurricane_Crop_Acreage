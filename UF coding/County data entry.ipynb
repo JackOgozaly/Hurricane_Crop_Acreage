{
 "cells": [
  {
   "cell_type": "code",
   "execution_count": 24,
   "id": "39b61853",
   "metadata": {
    "scrolled": true
   },
   "outputs": [
    {
     "name": "stdout",
     "output_type": "stream",
     "text": [
      "1.2.4\n"
     ]
    }
   ],
   "source": [
    "import pandas as pd\n",
    "print(pd.__version__)\n",
    "import os\n",
    "import seaborn as sns"
   ]
  },
  {
   "cell_type": "code",
   "execution_count": 2,
   "id": "724e7a43",
   "metadata": {
    "scrolled": true
   },
   "outputs": [],
   "source": [
    "df = pd.read_excel(r'/Users/clarehuang/Documents/countydata.xlsx')\n",
    "# os.listdir()\n",
    "# df = pd.read_excel(\"countydata.xlsx\")\n"
   ]
  },
  {
   "cell_type": "code",
   "execution_count": 47,
   "id": "4299debc",
   "metadata": {},
   "outputs": [],
   "source": [
    "dff = df[(df[\"State\"]==\"Florida\")]\n",
    "# print(df)"
   ]
  },
  {
   "cell_type": "code",
   "execution_count": 10,
   "id": "12066fa1",
   "metadata": {},
   "outputs": [
    {
     "data": {
      "text/plain": [
       "Index(['State Code', 'County Code', 'Crop Code', 'State', 'County',\n",
       "       'State County Code', 'Crop', 'Crop Type', 'Intended Use',\n",
       "       'Irrigation Practice', 'Planted Acres', 'Volunteer Acres',\n",
       "       'Failed Acres', 'Prevented Acres', 'Not Planted Acres',\n",
       "       'Planted and Failed Acres'],\n",
       "      dtype='object')"
      ]
     },
     "execution_count": 10,
     "metadata": {},
     "output_type": "execute_result"
    }
   ],
   "source": [
    "df.columns #The column labels of the DataFrame."
   ]
  },
  {
   "cell_type": "code",
   "execution_count": 5,
   "id": "36cb0ee2",
   "metadata": {},
   "outputs": [
    {
     "data": {
      "text/plain": [
       "RangeIndex(start=0, stop=178492, step=1)"
      ]
     },
     "execution_count": 5,
     "metadata": {},
     "output_type": "execute_result"
    }
   ],
   "source": [
    "dff.index #The index (row labels) of the DataFrame."
   ]
  },
  {
   "cell_type": "code",
   "execution_count": 14,
   "id": "a2a7c215",
   "metadata": {},
   "outputs": [
    {
     "name": "stdout",
     "output_type": "stream",
     "text": [
      "<class 'pandas.core.frame.DataFrame'>\n",
      "Int64Index: 1771 entries, 12374 to 14144\n",
      "Data columns (total 16 columns):\n",
      " #   Column                    Non-Null Count  Dtype  \n",
      "---  ------                    --------------  -----  \n",
      " 0   State Code                1771 non-null   int64  \n",
      " 1   County Code               1771 non-null   int64  \n",
      " 2   Crop Code                 1771 non-null   int64  \n",
      " 3   State                     1771 non-null   object \n",
      " 4   County                    1771 non-null   object \n",
      " 5   State County Code         1771 non-null   int64  \n",
      " 6   Crop                      1771 non-null   object \n",
      " 7   Crop Type                 1428 non-null   object \n",
      " 8   Intended Use              1771 non-null   object \n",
      " 9   Irrigation Practice       1771 non-null   object \n",
      " 10  Planted Acres             1771 non-null   float64\n",
      " 11  Volunteer Acres           1771 non-null   float64\n",
      " 12  Failed Acres              1771 non-null   float64\n",
      " 13  Prevented Acres           1771 non-null   float64\n",
      " 14  Not Planted Acres         1771 non-null   float64\n",
      " 15  Planted and Failed Acres  1771 non-null   float64\n",
      "dtypes: float64(6), int64(4), object(6)\n",
      "memory usage: 235.2+ KB\n"
     ]
    }
   ],
   "source": [
    "# dff.dtypes #Return the dtypes in the DataFrame.\n",
    "dff.info(verbose=True, show_counts=True) #Print a concise summary of a DataFrame."
   ]
  },
  {
   "cell_type": "code",
   "execution_count": 17,
   "id": "ca8db5d5",
   "metadata": {},
   "outputs": [
    {
     "data": {
      "text/plain": [
       "State Code                    0\n",
       "County Code                   0\n",
       "Crop Code                     0\n",
       "State                         0\n",
       "County                        0\n",
       "State County Code             0\n",
       "Crop                          0\n",
       "Crop Type                   343\n",
       "Intended Use                  0\n",
       "Irrigation Practice           0\n",
       "Planted Acres                 0\n",
       "Volunteer Acres               0\n",
       "Failed Acres                  0\n",
       "Prevented Acres               0\n",
       "Not Planted Acres             0\n",
       "Planted and Failed Acres      0\n",
       "dtype: int64"
      ]
     },
     "execution_count": 17,
     "metadata": {},
     "output_type": "execute_result"
    }
   ],
   "source": [
    "dff.isna().sum()"
   ]
  },
  {
   "cell_type": "code",
   "execution_count": 45,
   "id": "61f9d3a1",
   "metadata": {},
   "outputs": [
    {
     "data": {
      "text/plain": [
       "<AxesSubplot:ylabel='Crop'>"
      ]
     },
     "execution_count": 45,
     "metadata": {},
     "output_type": "execute_result"
    },
    {
     "data": {
      "image/png": "[encoded data removed]",
      "text/plain": [
       "<Figure size 1440x720 with 1 Axes>"
      ]
     },
     "metadata": {},
     "output_type": "display_data"
    }
   ],
   "source": [
    "for_plot = dff.Crop.value_counts()\n",
    "for_plot = pd.DataFrame(for_plot)\n",
    "for_plot = for_plot[for_plot[\"Crop\"]>50]\n",
    "sns.set(rc={'figure.figsize':(20,10)})\n",
    "sns.barplot(x=for_plot.index, y = for_plot[\"Crop\"])\n",
    "# dff[\"Failed Acres\"].describe()\n",
    "# sns.histplot(dff[\"Failed Acres\"])"
   ]
  },
  {
   "cell_type": "code",
   "execution_count": 8,
   "id": "c5150af9",
   "metadata": {},
   "outputs": [
    {
     "data": {
      "text/plain": [
       "2855872"
      ]
     },
     "execution_count": 8,
     "metadata": {},
     "output_type": "execute_result"
    }
   ],
   "source": [
    "df.size #Return an int representing the number of elements in this object."
   ]
  },
  {
   "cell_type": "code",
   "execution_count": 9,
   "id": "0cf7203c",
   "metadata": {},
   "outputs": [
    {
     "data": {
      "text/plain": [
       "<bound method DataFrame.memory_usage of         State Code  County Code  Crop Code        State   County  \\\n",
       "0                1            1         11      Alabama  Autauga   \n",
       "1                1            1         11      Alabama  Autauga   \n",
       "2                1            1         16      Alabama  Autauga   \n",
       "3                1            1         16      Alabama  Autauga   \n",
       "4                1            1         21      Alabama  Autauga   \n",
       "...            ...          ...        ...          ...      ...   \n",
       "178487          72          141       5000  Puerto Rico   Utuado   \n",
       "178488          72          141       7037  Puerto Rico   Utuado   \n",
       "178489          72          141       7164  Puerto Rico   Utuado   \n",
       "178490          72          141       7208  Puerto Rico   Utuado   \n",
       "178491          72          141       8005  Puerto Rico   Utuado   \n",
       "\n",
       "        State County Code            Crop        Crop Type Intended Use  \\\n",
       "0                    1001           WHEAT  SOFT RED WINTER        Grain   \n",
       "1                    1001           WHEAT  SOFT RED WINTER         Seed   \n",
       "2                    1001            OATS           WINTER        Grain   \n",
       "3                    1001            OATS           WINTER         Seed   \n",
       "4                    1001  COTTON  UPLAND              NaN        Blank   \n",
       "...                   ...             ...              ...          ...   \n",
       "178487              72141           HERBS         TURMERIC        Fresh   \n",
       "178488              72141      JACK FRUIT              NaN        Fresh   \n",
       "178489              72141        RAMBUTAN              NaN        Fresh   \n",
       "178490              72141      MANGOSTEEN              NaN        Fresh   \n",
       "178491              72141          LYCHEE              NaN        Fresh   \n",
       "\n",
       "       Irrigation Practice  Planted Acres  Volunteer Acres  Failed Acres  \\\n",
       "0                        N        62.1000              0.0           0.0   \n",
       "1                        N        62.7700              0.0           0.0   \n",
       "2                        N       108.5200              0.0           0.0   \n",
       "3                        N         9.5500              0.0           0.0   \n",
       "4                        I       574.5700              0.0           0.0   \n",
       "...                    ...            ...              ...           ...   \n",
       "178487                   N         0.4856              0.0           0.0   \n",
       "178488                   N         1.9424              0.0           0.0   \n",
       "178489                   N         6.7984              0.0           0.0   \n",
       "178490                   N         5.8272              0.0           0.0   \n",
       "178491                   N         0.9712              0.0           0.0   \n",
       "\n",
       "        Prevented Acres  Not Planted Acres  Planted and Failed Acres  \n",
       "0                   0.0                0.0                   62.1000  \n",
       "1                   0.0                0.0                   62.7700  \n",
       "2                   0.0                0.0                  108.5200  \n",
       "3                   0.0                0.0                    9.5500  \n",
       "4                   0.0                0.0                  574.5700  \n",
       "...                 ...                ...                       ...  \n",
       "178487              0.0                0.0                    0.4856  \n",
       "178488              0.0                0.0                    1.9424  \n",
       "178489              0.0                0.0                    6.7984  \n",
       "178490              0.0                0.0                    5.8272  \n",
       "178491              0.0                0.0                    0.9712  \n",
       "\n",
       "[178492 rows x 16 columns]>"
      ]
     },
     "execution_count": 9,
     "metadata": {},
     "output_type": "execute_result"
    }
   ],
   "source": [
    "df.memory_usage #Return the memory usage of each column in bytes."
   ]
  },
  {
   "cell_type": "code",
   "execution_count": 18,
   "id": "ab84101d",
   "metadata": {},
   "outputs": [
    {
     "data": {
      "text/plain": [
       "(1771, 16)"
      ]
     },
     "execution_count": 18,
     "metadata": {},
     "output_type": "execute_result"
    }
   ],
   "source": [
    "dff.shape #Return an int representing the number of axes / array dimensions"
   ]
  },
  {
   "cell_type": "code",
   "execution_count": 15,
   "id": "d9feefe8",
   "metadata": {},
   "outputs": [
    {
     "data": {
      "text/plain": [
       "array([[1, 1, 11, ..., 0.0, 0.0, 62.1],\n",
       "       [1, 1, 11, ..., 0.0, 0.0, 62.77],\n",
       "       [1, 1, 16, ..., 0.0, 0.0, 108.52],\n",
       "       ...,\n",
       "       [72, 141, 7164, ..., 0.0, 0.0, 6.7984],\n",
       "       [72, 141, 7208, ..., 0.0, 0.0, 5.8272],\n",
       "       [72, 141, 8005, ..., 0.0, 0.0, 0.9712]], dtype=object)"
      ]
     },
     "execution_count": 15,
     "metadata": {},
     "output_type": "execute_result"
    }
   ],
   "source": [
    "df.values #Return a Numpy representation of the DataFrame"
   ]
  },
  {
   "cell_type": "code",
   "execution_count": 16,
   "id": "b59ecf32",
   "metadata": {},
   "outputs": [
    {
     "data": {
      "text/plain": [
       "<bound method DataFrame.query of         State Code  County Code  Crop Code        State   County  \\\n",
       "0                1            1         11      Alabama  Autauga   \n",
       "1                1            1         11      Alabama  Autauga   \n",
       "2                1            1         16      Alabama  Autauga   \n",
       "3                1            1         16      Alabama  Autauga   \n",
       "4                1            1         21      Alabama  Autauga   \n",
       "...            ...          ...        ...          ...      ...   \n",
       "178487          72          141       5000  Puerto Rico   Utuado   \n",
       "178488          72          141       7037  Puerto Rico   Utuado   \n",
       "178489          72          141       7164  Puerto Rico   Utuado   \n",
       "178490          72          141       7208  Puerto Rico   Utuado   \n",
       "178491          72          141       8005  Puerto Rico   Utuado   \n",
       "\n",
       "        State County Code            Crop        Crop Type Intended Use  \\\n",
       "0                    1001           WHEAT  SOFT RED WINTER        Grain   \n",
       "1                    1001           WHEAT  SOFT RED WINTER         Seed   \n",
       "2                    1001            OATS           WINTER        Grain   \n",
       "3                    1001            OATS           WINTER         Seed   \n",
       "4                    1001  COTTON  UPLAND              NaN        Blank   \n",
       "...                   ...             ...              ...          ...   \n",
       "178487              72141           HERBS         TURMERIC        Fresh   \n",
       "178488              72141      JACK FRUIT              NaN        Fresh   \n",
       "178489              72141        RAMBUTAN              NaN        Fresh   \n",
       "178490              72141      MANGOSTEEN              NaN        Fresh   \n",
       "178491              72141          LYCHEE              NaN        Fresh   \n",
       "\n",
       "       Irrigation Practice  Planted Acres  Volunteer Acres  Failed Acres  \\\n",
       "0                        N        62.1000              0.0           0.0   \n",
       "1                        N        62.7700              0.0           0.0   \n",
       "2                        N       108.5200              0.0           0.0   \n",
       "3                        N         9.5500              0.0           0.0   \n",
       "4                        I       574.5700              0.0           0.0   \n",
       "...                    ...            ...              ...           ...   \n",
       "178487                   N         0.4856              0.0           0.0   \n",
       "178488                   N         1.9424              0.0           0.0   \n",
       "178489                   N         6.7984              0.0           0.0   \n",
       "178490                   N         5.8272              0.0           0.0   \n",
       "178491                   N         0.9712              0.0           0.0   \n",
       "\n",
       "        Prevented Acres  Not Planted Acres  Planted and Failed Acres  \n",
       "0                   0.0                0.0                   62.1000  \n",
       "1                   0.0                0.0                   62.7700  \n",
       "2                   0.0                0.0                  108.5200  \n",
       "3                   0.0                0.0                    9.5500  \n",
       "4                   0.0                0.0                  574.5700  \n",
       "...                 ...                ...                       ...  \n",
       "178487              0.0                0.0                    0.4856  \n",
       "178488              0.0                0.0                    1.9424  \n",
       "178489              0.0                0.0                    6.7984  \n",
       "178490              0.0                0.0                    5.8272  \n",
       "178491              0.0                0.0                    0.9712  \n",
       "\n",
       "[178492 rows x 16 columns]>"
      ]
     },
     "execution_count": 16,
     "metadata": {},
     "output_type": "execute_result"
    }
   ],
   "source": [
    "df.query #Query the columns of a DataFrame with a boolean expression."
   ]
  },
  {
   "cell_type": "code",
   "execution_count": 1,
   "id": "5db08145",
   "metadata": {},
   "outputs": [
    {
     "name": "stdout",
     "output_type": "stream",
     "text": [
      "                        date        id  \\\n",
      "name                                     \n",
      "UNNAMED  1851-06-25 00:00:00  AL011851   \n",
      "UNNAMED  1851-06-25 06:00:00  AL011851   \n",
      "UNNAMED  1851-06-25 12:00:00  AL011851   \n",
      "UNNAMED  1851-06-25 18:00:00  AL011851   \n",
      "UNNAMED  1851-06-25 21:00:00  AL011851   \n",
      "\n",
      "                                     status_of_system_desc  \\\n",
      "name                                                         \n",
      "UNNAMED  HU – Tropical cyclone of hurricane intensity (...   \n",
      "UNNAMED  HU – Tropical cyclone of hurricane intensity (...   \n",
      "UNNAMED  HU – Tropical cyclone of hurricane intensity (...   \n",
      "UNNAMED  HU – Tropical cyclone of hurricane intensity (...   \n",
      "UNNAMED  HU – Tropical cyclone of hurricane intensity (...   \n",
      "\n",
      "                                   record_identifier_desc  latitude  \\\n",
      "name                                                                  \n",
      "UNNAMED                                               NaN      28.0   \n",
      "UNNAMED                                               NaN      28.0   \n",
      "UNNAMED                                               NaN      28.0   \n",
      "UNNAMED                                               NaN      28.1   \n",
      "UNNAMED  Landfall (center of system crossing a coastline)      28.2   \n",
      "\n",
      "         longitude  max_sustained_wind  max_pressure  34kt_wind_radii_NE_quad  \\\n",
      "name                                                                            \n",
      "UNNAMED      -94.8                80.0           NaN                      NaN   \n",
      "UNNAMED      -95.4                80.0           NaN                      NaN   \n",
      "UNNAMED      -96.0                80.0           NaN                      NaN   \n",
      "UNNAMED      -96.5                80.0           NaN                      NaN   \n",
      "UNNAMED      -96.8                80.0           NaN                      NaN   \n",
      "\n",
      "         34kt_wind_radii_SE_quad  ...  64kt_wind_radii_SW_qud  \\\n",
      "name                              ...                           \n",
      "UNNAMED                      NaN  ...                     NaN   \n",
      "UNNAMED                      NaN  ...                     NaN   \n",
      "UNNAMED                      NaN  ...                     NaN   \n",
      "UNNAMED                      NaN  ...                     NaN   \n",
      "UNNAMED                      NaN  ...                     NaN   \n",
      "\n",
      "         64kt_wind_radii_NW_qud  radius_max_wind       ymd  minutes  \\\n",
      "name                                                                  \n",
      "UNNAMED                     NaN              NaN  18510625        0   \n",
      "UNNAMED                     NaN              NaN  18510625      600   \n",
      "UNNAMED                     NaN              NaN  18510625     1200   \n",
      "UNNAMED                     NaN              NaN  18510625     1800   \n",
      "UNNAMED                     NaN              NaN  18510625     2100   \n",
      "\n",
      "         num_best_track_entries  status_of_system  record_identifier  \\\n",
      "name                                                                   \n",
      "UNNAMED                      14                HU                      \n",
      "UNNAMED                      14                HU                      \n",
      "UNNAMED                      14                HU                      \n",
      "UNNAMED                      14                HU                      \n",
      "UNNAMED                      14                HU                  L   \n",
      "\n",
      "         hemishphere_east_west  hemishphere_north_south  \n",
      "name                                                     \n",
      "UNNAMED                Western                    North  \n",
      "UNNAMED                Western                    North  \n",
      "UNNAMED                Western                    North  \n",
      "UNNAMED                Western                    North  \n",
      "UNNAMED                Western                    North  \n",
      "\n",
      "[5 rows x 28 columns]\n"
     ]
    }
   ],
   "source": [
    "import pandas as pd\n",
    "url = 'https://raw.githubusercontent.com/JackOgozaly/Hurricane_Crop_Acreage/main/Data/historical_hurricane_date.csv'\n",
    "df = pd.read_csv(url, index_col=0)\n",
    "print(df.head(5))\n"
   ]
  },
  {
   "cell_type": "code",
   "execution_count": null,
   "id": "c15569e5",
   "metadata": {},
   "outputs": [],
   "source": []
  }
 ],
 "metadata": {
  "kernelspec": {
   "display_name": "Python 3",
   "language": "python",
   "name": "python3"
  },
  "language_info": {
   "codemirror_mode": {
    "name": "ipython",
    "version": 3
   },
   "file_extension": ".py",
   "mimetype": "text/x-python",
   "name": "python",
   "nbconvert_exporter": "python",
   "pygments_lexer": "ipython3",
   "version": "3.8.8"
  }
 },
 "nbformat": 4,
 "nbformat_minor": 5
}
