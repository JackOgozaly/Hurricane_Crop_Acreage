{
 "cells": [
  {
   "cell_type": "code",
   "execution_count": 5,
   "id": "39b61853",
   "metadata": {
    "scrolled": true
   },
   "outputs": [
    {
     "name": "stdout",
     "output_type": "stream",
     "text": [
      "1.2.4\n"
     ]
    }
   ],
   "source": [
    "import pandas as pd\n",
    "print(pd.__version__)\n"
   ]
  },
  {
   "cell_type": "code",
   "execution_count": 10,
   "id": "724e7a43",
   "metadata": {
    "scrolled": true
   },
   "outputs": [
    {
     "name": "stdout",
     "output_type": "stream",
     "text": [
      "        State Code  County Code  Crop Code        State   County  \\\n",
      "0                1            1         11      Alabama  Autauga   \n",
      "1                1            1         11      Alabama  Autauga   \n",
      "2                1            1         16      Alabama  Autauga   \n",
      "3                1            1         16      Alabama  Autauga   \n",
      "4                1            1         21      Alabama  Autauga   \n",
      "...            ...          ...        ...          ...      ...   \n",
      "178487          72          141       5000  Puerto Rico   Utuado   \n",
      "178488          72          141       7037  Puerto Rico   Utuado   \n",
      "178489          72          141       7164  Puerto Rico   Utuado   \n",
      "178490          72          141       7208  Puerto Rico   Utuado   \n",
      "178491          72          141       8005  Puerto Rico   Utuado   \n",
      "\n",
      "        State County Code            Crop        Crop Type Intended Use  \\\n",
      "0                    1001           WHEAT  SOFT RED WINTER        Grain   \n",
      "1                    1001           WHEAT  SOFT RED WINTER         Seed   \n",
      "2                    1001            OATS           WINTER        Grain   \n",
      "3                    1001            OATS           WINTER         Seed   \n",
      "4                    1001  COTTON  UPLAND              NaN        Blank   \n",
      "...                   ...             ...              ...          ...   \n",
      "178487              72141           HERBS         TURMERIC        Fresh   \n",
      "178488              72141      JACK FRUIT              NaN        Fresh   \n",
      "178489              72141        RAMBUTAN              NaN        Fresh   \n",
      "178490              72141      MANGOSTEEN              NaN        Fresh   \n",
      "178491              72141          LYCHEE              NaN        Fresh   \n",
      "\n",
      "       Irrigation Practice  Planted Acres  Volunteer Acres  Failed Acres  \\\n",
      "0                        N        62.1000              0.0           0.0   \n",
      "1                        N        62.7700              0.0           0.0   \n",
      "2                        N       108.5200              0.0           0.0   \n",
      "3                        N         9.5500              0.0           0.0   \n",
      "4                        I       574.5700              0.0           0.0   \n",
      "...                    ...            ...              ...           ...   \n",
      "178487                   N         0.4856              0.0           0.0   \n",
      "178488                   N         1.9424              0.0           0.0   \n",
      "178489                   N         6.7984              0.0           0.0   \n",
      "178490                   N         5.8272              0.0           0.0   \n",
      "178491                   N         0.9712              0.0           0.0   \n",
      "\n",
      "        Prevented Acres  Not Planted Acres  Planted and Failed Acres  \n",
      "0                   0.0                0.0                   62.1000  \n",
      "1                   0.0                0.0                   62.7700  \n",
      "2                   0.0                0.0                  108.5200  \n",
      "3                   0.0                0.0                    9.5500  \n",
      "4                   0.0                0.0                  574.5700  \n",
      "...                 ...                ...                       ...  \n",
      "178487              0.0                0.0                    0.4856  \n",
      "178488              0.0                0.0                    1.9424  \n",
      "178489              0.0                0.0                    6.7984  \n",
      "178490              0.0                0.0                    5.8272  \n",
      "178491              0.0                0.0                    0.9712  \n",
      "\n",
      "[178492 rows x 16 columns]\n"
     ]
    }
   ],
   "source": [
    "df = pd.read_excel(r'/Users/clarehuang/Desktop/countydata.xlsx')\n",
    "print(df)"
   ]
  },
  {
   "cell_type": "code",
   "execution_count": 9,
   "id": "12066fa1",
   "metadata": {},
   "outputs": [
    {
     "data": {
      "text/plain": [
       "Index(['State Code', 'County Code', 'Crop Code', 'State', 'County',\n",
       "       'State County Code', 'Crop', 'Crop Type', 'Intended Use',\n",
       "       'Irrigation Practice', 'Planted Acres', 'Volunteer Acres',\n",
       "       'Failed Acres', 'Prevented Acres', 'Not Planted Acres',\n",
       "       'Planted and Failed Acres'],\n",
       "      dtype='object')"
      ]
     },
     "execution_count": 9,
     "metadata": {},
     "output_type": "execute_result"
    }
   ],
   "source": [
    "df.columns #The column labels of the DataFrame."
   ]
  },
  {
   "cell_type": "code",
   "execution_count": 8,
   "id": "36cb0ee2",
   "metadata": {},
   "outputs": [
    {
     "data": {
      "text/plain": [
       "RangeIndex(start=0, stop=178492, step=1)"
      ]
     },
     "execution_count": 8,
     "metadata": {},
     "output_type": "execute_result"
    }
   ],
   "source": [
    "df.index #The index (row labels) of the DataFrame."
   ]
  },
  {
   "cell_type": "code",
   "execution_count": 48,
   "id": "a2a7c215",
   "metadata": {},
   "outputs": [
    {
     "data": {
      "text/plain": [
       "<bound method DataFrame.info of         State Code  County Code  Crop Code        State   County  \\\n",
       "0                1            1         11      Alabama  Autauga   \n",
       "1                1            1         11      Alabama  Autauga   \n",
       "2                1            1         16      Alabama  Autauga   \n",
       "3                1            1         16      Alabama  Autauga   \n",
       "4                1            1         21      Alabama  Autauga   \n",
       "...            ...          ...        ...          ...      ...   \n",
       "178487          72          141       5000  Puerto Rico   Utuado   \n",
       "178488          72          141       7037  Puerto Rico   Utuado   \n",
       "178489          72          141       7164  Puerto Rico   Utuado   \n",
       "178490          72          141       7208  Puerto Rico   Utuado   \n",
       "178491          72          141       8005  Puerto Rico   Utuado   \n",
       "\n",
       "        State County Code            Crop        Crop Type Intended Use  \\\n",
       "0                    1001           WHEAT  SOFT RED WINTER        Grain   \n",
       "1                    1001           WHEAT  SOFT RED WINTER         Seed   \n",
       "2                    1001            OATS           WINTER        Grain   \n",
       "3                    1001            OATS           WINTER         Seed   \n",
       "4                    1001  COTTON  UPLAND              NaN        Blank   \n",
       "...                   ...             ...              ...          ...   \n",
       "178487              72141           HERBS         TURMERIC        Fresh   \n",
       "178488              72141      JACK FRUIT              NaN        Fresh   \n",
       "178489              72141        RAMBUTAN              NaN        Fresh   \n",
       "178490              72141      MANGOSTEEN              NaN        Fresh   \n",
       "178491              72141          LYCHEE              NaN        Fresh   \n",
       "\n",
       "       Irrigation Practice  Planted Acres  Volunteer Acres  Failed Acres  \\\n",
       "0                        N        62.1000              0.0           0.0   \n",
       "1                        N        62.7700              0.0           0.0   \n",
       "2                        N       108.5200              0.0           0.0   \n",
       "3                        N         9.5500              0.0           0.0   \n",
       "4                        I       574.5700              0.0           0.0   \n",
       "...                    ...            ...              ...           ...   \n",
       "178487                   N         0.4856              0.0           0.0   \n",
       "178488                   N         1.9424              0.0           0.0   \n",
       "178489                   N         6.7984              0.0           0.0   \n",
       "178490                   N         5.8272              0.0           0.0   \n",
       "178491                   N         0.9712              0.0           0.0   \n",
       "\n",
       "        Prevented Acres  Not Planted Acres  Planted and Failed Acres  \n",
       "0                   0.0                0.0                   62.1000  \n",
       "1                   0.0                0.0                   62.7700  \n",
       "2                   0.0                0.0                  108.5200  \n",
       "3                   0.0                0.0                    9.5500  \n",
       "4                   0.0                0.0                  574.5700  \n",
       "...                 ...                ...                       ...  \n",
       "178487              0.0                0.0                    0.4856  \n",
       "178488              0.0                0.0                    1.9424  \n",
       "178489              0.0                0.0                    6.7984  \n",
       "178490              0.0                0.0                    5.8272  \n",
       "178491              0.0                0.0                    0.9712  \n",
       "\n",
       "[178492 rows x 16 columns]>"
      ]
     },
     "execution_count": 48,
     "metadata": {},
     "output_type": "execute_result"
    }
   ],
   "source": [
    "df.dtypes #Return the dtypes in the DataFrame.\n",
    "df.info #Print a concise summary of a DataFrame."
   ]
  },
  {
   "cell_type": "code",
   "execution_count": 11,
   "id": "c5150af9",
   "metadata": {},
   "outputs": [
    {
     "data": {
      "text/plain": [
       "2855872"
      ]
     },
     "execution_count": 11,
     "metadata": {},
     "output_type": "execute_result"
    }
   ],
   "source": [
    "df.size #Return an int representing the number of elements in this object."
   ]
  },
  {
   "cell_type": "code",
   "execution_count": 12,
   "id": "0cf7203c",
   "metadata": {},
   "outputs": [
    {
     "data": {
      "text/plain": [
       "<bound method DataFrame.memory_usage of         State Code  County Code  Crop Code        State   County  \\\n",
       "0                1            1         11      Alabama  Autauga   \n",
       "1                1            1         11      Alabama  Autauga   \n",
       "2                1            1         16      Alabama  Autauga   \n",
       "3                1            1         16      Alabama  Autauga   \n",
       "4                1            1         21      Alabama  Autauga   \n",
       "...            ...          ...        ...          ...      ...   \n",
       "178487          72          141       5000  Puerto Rico   Utuado   \n",
       "178488          72          141       7037  Puerto Rico   Utuado   \n",
       "178489          72          141       7164  Puerto Rico   Utuado   \n",
       "178490          72          141       7208  Puerto Rico   Utuado   \n",
       "178491          72          141       8005  Puerto Rico   Utuado   \n",
       "\n",
       "        State County Code            Crop        Crop Type Intended Use  \\\n",
       "0                    1001           WHEAT  SOFT RED WINTER        Grain   \n",
       "1                    1001           WHEAT  SOFT RED WINTER         Seed   \n",
       "2                    1001            OATS           WINTER        Grain   \n",
       "3                    1001            OATS           WINTER         Seed   \n",
       "4                    1001  COTTON  UPLAND              NaN        Blank   \n",
       "...                   ...             ...              ...          ...   \n",
       "178487              72141           HERBS         TURMERIC        Fresh   \n",
       "178488              72141      JACK FRUIT              NaN        Fresh   \n",
       "178489              72141        RAMBUTAN              NaN        Fresh   \n",
       "178490              72141      MANGOSTEEN              NaN        Fresh   \n",
       "178491              72141          LYCHEE              NaN        Fresh   \n",
       "\n",
       "       Irrigation Practice  Planted Acres  Volunteer Acres  Failed Acres  \\\n",
       "0                        N        62.1000              0.0           0.0   \n",
       "1                        N        62.7700              0.0           0.0   \n",
       "2                        N       108.5200              0.0           0.0   \n",
       "3                        N         9.5500              0.0           0.0   \n",
       "4                        I       574.5700              0.0           0.0   \n",
       "...                    ...            ...              ...           ...   \n",
       "178487                   N         0.4856              0.0           0.0   \n",
       "178488                   N         1.9424              0.0           0.0   \n",
       "178489                   N         6.7984              0.0           0.0   \n",
       "178490                   N         5.8272              0.0           0.0   \n",
       "178491                   N         0.9712              0.0           0.0   \n",
       "\n",
       "        Prevented Acres  Not Planted Acres  Planted and Failed Acres  \n",
       "0                   0.0                0.0                   62.1000  \n",
       "1                   0.0                0.0                   62.7700  \n",
       "2                   0.0                0.0                  108.5200  \n",
       "3                   0.0                0.0                    9.5500  \n",
       "4                   0.0                0.0                  574.5700  \n",
       "...                 ...                ...                       ...  \n",
       "178487              0.0                0.0                    0.4856  \n",
       "178488              0.0                0.0                    1.9424  \n",
       "178489              0.0                0.0                    6.7984  \n",
       "178490              0.0                0.0                    5.8272  \n",
       "178491              0.0                0.0                    0.9712  \n",
       "\n",
       "[178492 rows x 16 columns]>"
      ]
     },
     "execution_count": 12,
     "metadata": {},
     "output_type": "execute_result"
    }
   ],
   "source": [
    "df.memory_usage #Return the memory usage of each column in bytes."
   ]
  },
  {
   "cell_type": "code",
   "execution_count": 13,
   "id": "ab84101d",
   "metadata": {},
   "outputs": [
    {
     "data": {
      "text/plain": [
       "2"
      ]
     },
     "execution_count": 13,
     "metadata": {},
     "output_type": "execute_result"
    }
   ],
   "source": [
    "df.ndim #Return an int representing the number of axes / array dimensions"
   ]
  },
  {
   "cell_type": "code",
   "execution_count": 15,
   "id": "d9feefe8",
   "metadata": {},
   "outputs": [
    {
     "data": {
      "text/plain": [
       "array([[1, 1, 11, ..., 0.0, 0.0, 62.1],\n",
       "       [1, 1, 11, ..., 0.0, 0.0, 62.77],\n",
       "       [1, 1, 16, ..., 0.0, 0.0, 108.52],\n",
       "       ...,\n",
       "       [72, 141, 7164, ..., 0.0, 0.0, 6.7984],\n",
       "       [72, 141, 7208, ..., 0.0, 0.0, 5.8272],\n",
       "       [72, 141, 8005, ..., 0.0, 0.0, 0.9712]], dtype=object)"
      ]
     },
     "execution_count": 15,
     "metadata": {},
     "output_type": "execute_result"
    }
   ],
   "source": [
    "df.values #Return a Numpy representation of the DataFrame"
   ]
  },
  {
   "cell_type": "code",
   "execution_count": 16,
   "id": "b59ecf32",
   "metadata": {},
   "outputs": [
    {
     "data": {
      "text/plain": [
       "<bound method DataFrame.query of         State Code  County Code  Crop Code        State   County  \\\n",
       "0                1            1         11      Alabama  Autauga   \n",
       "1                1            1         11      Alabama  Autauga   \n",
       "2                1            1         16      Alabama  Autauga   \n",
       "3                1            1         16      Alabama  Autauga   \n",
       "4                1            1         21      Alabama  Autauga   \n",
       "...            ...          ...        ...          ...      ...   \n",
       "178487          72          141       5000  Puerto Rico   Utuado   \n",
       "178488          72          141       7037  Puerto Rico   Utuado   \n",
       "178489          72          141       7164  Puerto Rico   Utuado   \n",
       "178490          72          141       7208  Puerto Rico   Utuado   \n",
       "178491          72          141       8005  Puerto Rico   Utuado   \n",
       "\n",
       "        State County Code            Crop        Crop Type Intended Use  \\\n",
       "0                    1001           WHEAT  SOFT RED WINTER        Grain   \n",
       "1                    1001           WHEAT  SOFT RED WINTER         Seed   \n",
       "2                    1001            OATS           WINTER        Grain   \n",
       "3                    1001            OATS           WINTER         Seed   \n",
       "4                    1001  COTTON  UPLAND              NaN        Blank   \n",
       "...                   ...             ...              ...          ...   \n",
       "178487              72141           HERBS         TURMERIC        Fresh   \n",
       "178488              72141      JACK FRUIT              NaN        Fresh   \n",
       "178489              72141        RAMBUTAN              NaN        Fresh   \n",
       "178490              72141      MANGOSTEEN              NaN        Fresh   \n",
       "178491              72141          LYCHEE              NaN        Fresh   \n",
       "\n",
       "       Irrigation Practice  Planted Acres  Volunteer Acres  Failed Acres  \\\n",
       "0                        N        62.1000              0.0           0.0   \n",
       "1                        N        62.7700              0.0           0.0   \n",
       "2                        N       108.5200              0.0           0.0   \n",
       "3                        N         9.5500              0.0           0.0   \n",
       "4                        I       574.5700              0.0           0.0   \n",
       "...                    ...            ...              ...           ...   \n",
       "178487                   N         0.4856              0.0           0.0   \n",
       "178488                   N         1.9424              0.0           0.0   \n",
       "178489                   N         6.7984              0.0           0.0   \n",
       "178490                   N         5.8272              0.0           0.0   \n",
       "178491                   N         0.9712              0.0           0.0   \n",
       "\n",
       "        Prevented Acres  Not Planted Acres  Planted and Failed Acres  \n",
       "0                   0.0                0.0                   62.1000  \n",
       "1                   0.0                0.0                   62.7700  \n",
       "2                   0.0                0.0                  108.5200  \n",
       "3                   0.0                0.0                    9.5500  \n",
       "4                   0.0                0.0                  574.5700  \n",
       "...                 ...                ...                       ...  \n",
       "178487              0.0                0.0                    0.4856  \n",
       "178488              0.0                0.0                    1.9424  \n",
       "178489              0.0                0.0                    6.7984  \n",
       "178490              0.0                0.0                    5.8272  \n",
       "178491              0.0                0.0                    0.9712  \n",
       "\n",
       "[178492 rows x 16 columns]>"
      ]
     },
     "execution_count": 16,
     "metadata": {},
     "output_type": "execute_result"
    }
   ],
   "source": [
    "df.query #Query the columns of a DataFrame with a boolean expression."
   ]
  },
  {
   "cell_type": "code",
   "execution_count": null,
   "id": "5db08145",
   "metadata": {},
   "outputs": [],
   "source": []
  }
 ],
 "metadata": {
  "kernelspec": {
   "display_name": "Python 3",
   "language": "python",
   "name": "python3"
  },
  "language_info": {
   "codemirror_mode": {
    "name": "ipython",
    "version": 3
   },
   "file_extension": ".py",
   "mimetype": "text/x-python",
   "name": "python",
   "nbconvert_exporter": "python",
   "pygments_lexer": "ipython3",
   "version": "3.8.8"
  }
 },
 "nbformat": 4,
 "nbformat_minor": 5
}
